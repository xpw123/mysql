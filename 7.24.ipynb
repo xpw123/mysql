{
 "cells": [
  {
   "cell_type": "markdown",
   "metadata": {},
   "source": [
    "# 更多字符串和特殊方法\n",
    "- 前面我们已经学了类，在Python中还有一些特殊的方法起着非常重要的作用，这里会介绍一些特殊的方法和运算符的重载，以及使用特殊方法设计类"
   ]
  },
  {
   "cell_type": "markdown",
   "metadata": {},
   "source": [
    "## str 类\n",
    "- 一个str对象是不可变的，也就是说，一旦创建了这个字符串，那么它的内容在认为不改变的情况下是不会变的\n",
    "- s1 = str()\n",
    "- s2 = str('welcome to Python')"
   ]
  },
  {
   "cell_type": "markdown",
   "metadata": {},
   "source": [
    "## 创建两个对象，分别观察两者id\n",
    "- id为Python内存地址"
   ]
  },
  {
   "cell_type": "markdown",
   "metadata": {},
   "source": [
    "## 处理字符串的函数\n",
    "- len\n",
    "- max\n",
    "- min\n",
    "- 字符串一切是按照ASCII码值进行比较"
   ]
  },
  {
   "cell_type": "code",
   "execution_count": 2,
   "metadata": {},
   "outputs": [
    {
     "data": {
      "text/plain": [
       "4"
      ]
     },
     "execution_count": 2,
     "metadata": {},
     "output_type": "execute_result"
    }
   ],
   "source": [
    "#长度\n",
    "len('abc ')"
   ]
  },
  {
   "cell_type": "code",
   "execution_count": 5,
   "metadata": {},
   "outputs": [
    {
     "data": {
      "text/plain": [
       "'a'"
      ]
     },
     "execution_count": 5,
     "metadata": {},
     "output_type": "execute_result"
    }
   ],
   "source": [
    "a = 'abc'\n",
    "a[0]"
   ]
  },
  {
   "cell_type": "code",
   "execution_count": 6,
   "metadata": {},
   "outputs": [
    {
     "name": "stdout",
     "output_type": "stream",
     "text": [
      "a\n",
      "b\n",
      "c\n"
     ]
    }
   ],
   "source": [
    "i= 0\n",
    "a = 'abc'\n",
    "while i<len(a):\n",
    "    print(a[i])\n",
    "    i +=1"
   ]
  },
  {
   "cell_type": "markdown",
   "metadata": {},
   "source": [
    "## 下角标运算符 []\n",
    "- 一个字符串是一个字符序列，可以通过索引进行访问\n",
    "- 观察字符串是否是一个可迭代序列  \\__iter__"
   ]
  },
  {
   "cell_type": "code",
   "execution_count": null,
   "metadata": {},
   "outputs": [],
   "source": [
    "for i in range(4):\n",
    "    for j in range(4):\n",
    "        if i == 0 or i == 3:\n",
    "            print('*',end=\"\")\n",
    "            "
   ]
  },
  {
   "cell_type": "markdown",
   "metadata": {},
   "source": [
    "## 切片 [start: end]\n",
    "- start 默认值为0\n",
    "- end 默认值为-1"
   ]
  },
  {
   "cell_type": "markdown",
   "metadata": {},
   "source": [
    "## 链接运算符 + 和复制运算符 *\n",
    "- \\+ 链接多个字符串，同时''.join()也是\n",
    "- \\* 复制多个字符串"
   ]
  },
  {
   "cell_type": "markdown",
   "metadata": {},
   "source": [
    "## in 和 not in 运算符\n",
    "- in :判断某个字符是否在字符串内 \n",
    "- not in ：判断某个字符是否不在字符串内\n",
    "- 返回的是布尔值"
   ]
  },
  {
   "cell_type": "code",
   "execution_count": 7,
   "metadata": {},
   "outputs": [
    {
     "data": {
      "text/plain": [
       "True"
      ]
     },
     "execution_count": 7,
     "metadata": {},
     "output_type": "execute_result"
    }
   ],
   "source": [
    "a = '12'\n",
    "b = '0'\n",
    "b not in a"
   ]
  },
  {
   "cell_type": "markdown",
   "metadata": {},
   "source": [
    "## 比较字符串\n",
    "-  ==, !=, >=, <=, >, <\n",
    "- 依照ASCII码值进行比较"
   ]
  },
  {
   "cell_type": "code",
   "execution_count": 11,
   "metadata": {},
   "outputs": [],
   "source": [
    "def xxx(a,b):\n",
    "    for i in a:\n",
    "        for j in b:\n",
    "            if i == j: \n",
    "                return True\n",
    "    else:\n",
    "         return False"
   ]
  },
  {
   "cell_type": "markdown",
   "metadata": {},
   "source": [
    "## 测试字符串\n",
    "![](../Photo/99.png)\n",
    "- 注意：\n",
    "> - isalnum() 中是不能包含空格，否则会返回False"
   ]
  },
  {
   "cell_type": "code",
   "execution_count": 2,
   "metadata": {},
   "outputs": [
    {
     "data": {
      "text/plain": [
       "True"
      ]
     },
     "execution_count": 2,
     "metadata": {},
     "output_type": "execute_result"
    }
   ],
   "source": [
    "a = '122'\n",
    "a.isalnum()"
   ]
  },
  {
   "cell_type": "code",
   "execution_count": 3,
   "metadata": {},
   "outputs": [
    {
     "data": {
      "text/plain": [
       "False"
      ]
     },
     "execution_count": 3,
     "metadata": {},
     "output_type": "execute_result"
    }
   ],
   "source": [
    "b = ''\n",
    "b.islower()"
   ]
  },
  {
   "cell_type": "code",
   "execution_count": 5,
   "metadata": {},
   "outputs": [],
   "source": [
    "a = '123abc'\n",
    "def check(password):\n",
    "    \"\"\"\n",
    "    Check Password\n",
    "    Paramters:\n",
    "    ---------\n",
    "        password: Need Check Password.\n",
    "    Returns:\n",
    "    -------\n",
    "        None.\n",
    "    Note:\n",
    "    ----\n",
    "        1.Must use for loop.\n",
    "        2.必须写上注释.\n",
    "    \"\"\"\n",
    "    N = len(a)\n",
    "    N1,N2,N3 = 0,0,0\n",
    "    for i in a:\n",
    "        if i.isupper():\n",
    "            N1 += 1\n",
    "        elif i.islower():\n",
    "            N2 += 1\n",
    "        elif i.isdigit():\n",
    "            N3 += 1\n",
    "    if N1== 0:\n",
    "        print('密码必须含有大写')\n",
    "    if N2== 0:\n",
    "        print('密码必须含有小写')\n",
    "    if N3== 0:\n",
    "        print('密码必须含有数字')\n",
    "    if N <=8:\n",
    "        print('密码必须超过八位')"
   ]
  },
  {
   "cell_type": "code",
   "execution_count": 7,
   "metadata": {},
   "outputs": [
    {
     "name": "stdout",
     "output_type": "stream",
     "text": [
      "密码必须含有大写\n",
      "密码必须含有小写\n"
     ]
    }
   ],
   "source": [
    "a = '12853543255'\n",
    "check(a)"
   ]
  },
  {
   "cell_type": "markdown",
   "metadata": {},
   "source": [
    "## 搜索子串\n",
    "![](../Photo/100.png)"
   ]
  },
  {
   "cell_type": "code",
   "execution_count": 9,
   "metadata": {},
   "outputs": [
    {
     "data": {
      "text/plain": [
       "True"
      ]
     },
     "execution_count": 9,
     "metadata": {},
     "output_type": "execute_result"
    }
   ],
   "source": [
    "a = '帅'\n",
    "b = '帅帅帅'\n",
    "b.endswith(a)"
   ]
  },
  {
   "cell_type": "code",
   "execution_count": 10,
   "metadata": {},
   "outputs": [
    {
     "data": {
      "text/plain": [
       "3"
      ]
     },
     "execution_count": 10,
     "metadata": {},
     "output_type": "execute_result"
    }
   ],
   "source": [
    "b.count('帅')"
   ]
  },
  {
   "cell_type": "code",
   "execution_count": 12,
   "metadata": {},
   "outputs": [
    {
     "data": {
      "text/plain": [
       "0"
      ]
     },
     "execution_count": 12,
     "metadata": {},
     "output_type": "execute_result"
    }
   ],
   "source": [
    "c = 'abcd' \n",
    "c.find('ab')"
   ]
  },
  {
   "cell_type": "code",
   "execution_count": 2,
   "metadata": {},
   "outputs": [],
   "source": [
    "import requests"
   ]
  },
  {
   "cell_type": "code",
   "execution_count": 4,
   "metadata": {},
   "outputs": [],
   "source": [
    "url= 'http://www.4399dmw.com/haizeiwang/tupian/'\n",
    "HTML = requests.get(url).text\n",
    "LIST =HTML.split('\\n')\n",
    "for i in LIST:\n",
    "#   if \"海贼王\" in i:\n",
    "#        print(i)\n",
    "   if i.find(\"海贼王\") != -1:\n",
    "        print"
   ]
  },
  {
   "cell_type": "code",
   "execution_count": 5,
   "metadata": {},
   "outputs": [],
   "source": [
    "url = 'http://www.4399dmw.com/haizeiwang/tupian/'\n",
    "HTML = requests.get(url).text\n",
    "LIST = HTML.split('\\n')\n",
    "for line in LIST:\n",
    "    if ',jpg'in line:\n",
    "        lin2 = line.split('\"')\n",
    "#           print(lin2)\n",
    "        for lines in lin2:\n",
    "             if ' .jpg'in linee:\n",
    "                print(linee)\n",
    "        "
   ]
  },
  {
   "cell_type": "code",
   "execution_count": 6,
   "metadata": {},
   "outputs": [
    {
     "name": "stdout",
     "output_type": "stream",
     "text": [
      "/images/error_new/logo.jpg\n",
      "/images/error_new/hz.jpg\n",
      "/images/error_new/hy.jpg\n",
      "/images/error_new/ss.jpg\n",
      "/images/error_new/xyy.jpg\n",
      "/images/error_new/dl.jpg\n",
      "http://dmimg.5054399.com/allimg/150330/6_150330161421_2.jpg\n",
      "http://dmimg.5054399.com/allimg/150320/6_150320104402_1.jpg\n",
      "http://dmimg.5054399.com/allimg/150317/6_150317101316_1.jpg\n",
      "http://dmimg.5054399.com/allimg/150331/6_150331095525_1.jpg\n",
      "http://dmimg.5054399.com/allimg/150305/6_150305102040_3.jpg\n",
      "http://dmimg.5054399.com/allimg/150218/6_150218163858_2.jpg\n",
      "http://dmimg.5054399.com/allimg/150209/6_150209151809_1.jpg\n",
      "http://dmimg.5054399.com/allimg/150206/6_150206154705_1.jpg\n",
      "http://dmimg.5054399.com/allimg/150203/32_150203114445_1.jpg\n",
      "http://dmimg.5054399.com/allimg/150130/6_150130160542_1.jpg\n",
      "http://dmimg.5054399.com/allimg/150129/6_150129154845_1.jpg\n",
      "http://dmimg.5054399.com/allimg/150128/6_150128193911_1.jpg\n",
      "http://dmimg.5054399.com/allimg/150128/6_150128165954_1.jpg\n",
      "http://dmimg.5054399.com/allimg/150127/6_150127115234_1.jpg\n",
      "http://dmimg.5054399.com/allimg/140623/6_140623110852_1.jpg\n",
      "http://dmimg.5054399.com/allimg/150121/6_150121135815_1.jpg\n",
      "http://dmimg.5054399.com/allimg/150114/6_150114094256_1.jpg\n",
      "http://dmimg.5054399.com/allimg/141212/6_141212093715_1.jpg\n",
      "http://dmimg.5054399.com/allimg/xiaduo/121.jpg\n",
      "http://dmimg.5054399.com/allimg/xiaduo/122.jpg\n",
      "http://dmimg.5054399.com/allimg/xiaduo/123.jpg\n",
      "http://dmimg.5054399.com/allimg/170415/6_170415112850_1.jpg\n",
      "http://dmimg.5054399.com/allimg/xiaduo/126.jpg\n",
      "http://dmimg.5054399.com/allimg/xiaduo/124.jpg\n",
      "http://dmimg.5054399.com/allimg/170613/42_170613104122_3.jpg\n",
      "http://dmimg.5054399.com/allimg/160217/6_160217142248_3.jpg\n",
      "http://dmimg.5054399.com/allimg/160127/6_160127110842_2.jpg\n",
      "http://dmimg.5054399.com/allimg/160126/6_160126100905_3.jpg\n",
      "http://dmimg.5054399.com/allimg/151028/6_151028142939_2.jpg\n",
      "http://dmimg.5054399.com/allimg/150106/6_150106164117_1.jpg\n",
      "http://dmimg.5054399.com/allimg/141229/6_141229165208_1.jpg\n",
      "http://dmimg.5054399.com/allimg/141224/32_141224095826_1.jpg\n",
      "http://dmimg.5054399.com/allimg/141215/32_141215095206_1.jpg\n",
      "http://dmimg.5054399.com/allimg/141208/32_141208110333_1.jpg\n",
      "http://dmimg.5054399.com/allimg/141204/32_141204103308_1.jpg\n",
      "http://dmimg.5054399.com/allimg/141129/6_141129155944_1.jpg\n",
      "http://dmimg.5054399.com/allimg/141129/6_141129134707_1.jpg\n",
      "http://dmimg.5054399.com/allimg/141129/6_141129112851_1.jpg\n",
      "http://dmimg.5054399.com/allimg/141127/6_141127151311_1.jpg\n",
      "http://dmimg.5054399.com/allimg/141125/6_141125164943_4.jpg\n",
      "http://dmimg.5054399.com/allimg/141125/6_141125114627_1.jpg\n",
      "http://dmimg.5054399.com/allimg/141124/6_141124105636_1.jpg\n",
      "http://dmimg.5054399.com/allimg/141118/6_141118114122_1.jpg\n",
      "http://dmimg.5054399.com/allimg/141115/6_141115144959_1.jpg\n",
      "http://dmimg.5054399.com/allimg/141024/6_141024170916_1.jpg\n",
      "http://dmimg.5054399.com/allimg/141015/6_141015150359_1.jpg\n",
      "http://dmimg.5054399.com/allimg/141015/32_141015100330_1.jpg\n",
      "http://dmimg.5054399.com/allimg/xiaduo/121.jpg\n",
      "http://dmimg.5054399.com/allimg/xiaduo/122.jpg\n",
      "http://dmimg.5054399.com/allimg/xiaduo/123.jpg\n",
      "http://dmimg.5054399.com/allimg/170415/6_170415112850_1.jpg\n",
      "http://dmimg.5054399.com/allimg/xiaduo/126.jpg\n",
      "http://dmimg.5054399.com/allimg/xiaduo/124.jpg\n",
      "http://dmimg.5054399.com/allimg/170613/42_170613104122_3.jpg\n",
      "http://dmimg.5054399.com/allimg/160217/6_160217142248_3.jpg\n",
      "http://dmimg.5054399.com/allimg/160127/6_160127110842_2.jpg\n",
      "http://dmimg.5054399.com/allimg/160126/6_160126100905_3.jpg\n",
      "http://dmimg.5054399.com/allimg/151028/6_151028142939_2.jpg\n",
      "http://dmimg.5054399.com/allimg/141011/32_141011104701_1.jpg\n",
      "http://dmimg.5054399.com/allimg/141010/6_141010160943_1.jpg\n",
      "http://dmimg.5054399.com/allimg/141009/32_141009101400_1.jpg\n",
      "http://dmimg.5054399.com/allimg/141008/32_141008115350_1.jpg\n",
      "http://dmimg.5054399.com/allimg/140930/32_140930113358_1.jpg\n",
      "http://dmimg.5054399.com/allimg/141006/17_141006105909_2.jpg\n",
      "http://dmimg.5054399.com/allimg/140929/32_140929165041_1.jpg\n",
      "http://dmimg.5054399.com/allimg/140929/32_140929155918_1.jpg\n",
      "http://dmimg.5054399.com/allimg/140929/32_140929152026_1.jpg\n",
      "http://dmimg.5054399.com/allimg/140929/32_140929145136_1.jpg\n",
      "http://dmimg.5054399.com/allimg/140929/32_140929143721_1.jpg\n",
      "http://dmimg.5054399.com/allimg/140928/32_140928171341_1.jpg\n",
      "http://dmimg.5054399.com/allimg/140928/32_140928165720_1.jpg\n",
      "http://dmimg.5054399.com/allimg/140928/32_140928101304_1.jpg\n",
      "http://dmimg.5054399.com/allimg/140927/6_140927153400_1.jpg\n",
      "http://dmimg.5054399.com/allimg/140927/6_140927114522_1.jpg\n",
      "http://dmimg.5054399.com/allimg/140924/32_140924115717_1.jpg\n",
      "http://dmimg.5054399.com/allimg/140922/32_140922102904_1.jpg\n",
      "http://dmimg.5054399.com/allimg/xiaduo/121.jpg\n",
      "http://dmimg.5054399.com/allimg/xiaduo/122.jpg\n",
      "http://dmimg.5054399.com/allimg/xiaduo/123.jpg\n",
      "http://dmimg.5054399.com/allimg/170415/6_170415112850_1.jpg\n",
      "http://dmimg.5054399.com/allimg/xiaduo/126.jpg\n",
      "http://dmimg.5054399.com/allimg/xiaduo/124.jpg\n",
      "http://dmimg.5054399.com/allimg/170613/42_170613104122_3.jpg\n",
      "http://dmimg.5054399.com/allimg/160217/6_160217142248_3.jpg\n",
      "http://dmimg.5054399.com/allimg/160127/6_160127110842_2.jpg\n",
      "http://dmimg.5054399.com/allimg/160126/6_160126100905_3.jpg\n",
      "http://dmimg.5054399.com/allimg/151028/6_151028142939_2.jpg\n",
      "http://dmimg.5054399.com/allimg/140920/32_140920114407_1.jpg\n",
      "http://dmimg.5054399.com/allimg/140919/32_140919143251_1.jpg\n",
      "http://dmimg.5054399.com/allimg/140917/32_140917102408_1.jpg\n",
      "http://dmimg.5054399.com/allimg/140916/32_140916110104_1.jpg\n",
      "http://dmimg.5054399.com/allimg/xiaduo/94.jpg\n",
      "http://dmimg.5054399.com/allimg/140912/32_140912101809_1.jpg\n",
      "http://dmimg.5054399.com/allimg/140911/32_140911094735_1.jpg\n",
      "http://dmimg.5054399.com/allimg/140910/32_140910101943_1.jpg\n",
      "http://dmimg.5054399.com/allimg/140909/32_140909113846_1.jpg\n",
      "http://dmimg.5054399.com/allimg/xiaduo/80.jpg\n",
      "http://dmimg.5054399.com/allimg/140904/32_140904151324_1.jpg\n",
      "http://dmimg.5054399.com/allimg/140903/32_140903173124_1.jpg\n",
      "http://dmimg.5054399.com/allimg/140830/6_140830144057_1.jpg\n",
      "http://dmimg.5054399.com/allimg/140828/32_140828111825_1.jpg\n",
      "http://dmimg.5054399.com/allimg/140827/32_140827113934_1.jpg\n",
      "http://dmimg.5054399.com/allimg/140825/6_140825141709_1.jpg\n",
      "http://dmimg.5054399.com/allimg/xiaduo/29.jpg\n",
      "http://dmimg.5054399.com/allimg/140821/32_140821100632_1.jpg\n",
      "http://dmimg.5054399.com/allimg/xiaduo/121.jpg\n",
      "http://dmimg.5054399.com/allimg/xiaduo/122.jpg\n",
      "http://dmimg.5054399.com/allimg/xiaduo/123.jpg\n",
      "http://dmimg.5054399.com/allimg/170415/6_170415112850_1.jpg\n",
      "http://dmimg.5054399.com/allimg/xiaduo/126.jpg\n",
      "http://dmimg.5054399.com/allimg/xiaduo/124.jpg\n",
      "http://dmimg.5054399.com/allimg/170613/42_170613104122_3.jpg\n",
      "http://dmimg.5054399.com/allimg/160217/6_160217142248_3.jpg\n",
      "http://dmimg.5054399.com/allimg/160127/6_160127110842_2.jpg\n",
      "http://dmimg.5054399.com/allimg/160126/6_160126100905_3.jpg\n",
      "http://dmimg.5054399.com/allimg/151028/6_151028142939_2.jpg\n",
      "http://dmimg.5054399.com/allimg/140820/6_140820112418_1.jpg\n",
      "http://dmimg.5054399.com/allimg/140818/32_140818164539_1.jpg\n",
      "http://dmimg.5054399.com/allimg/140818/6_140818113759_1.jpg\n",
      "http://dmimg.5054399.com/allimg/140809/32_140809105559_1.jpg\n",
      "http://dmimg.5054399.com/allimg/140808/32_140808112301_1.jpg\n",
      "http://dmimg.5054399.com/allimg/140808/32_140808095231_1.jpg\n",
      "http://dmimg.5054399.com/allimg/140806/32_140806095524_1.jpg\n",
      "http://dmimg.5054399.com/allimg/140802/6_140802113508_1.jpg\n",
      "http://dmimg.5054399.com/allimg/140802/32_140802103842_1.jpg\n",
      "http://dmimg.5054399.com/allimg/140731/32_140731094847_1.jpg\n",
      "http://dmimg.5054399.com/allimg/140730/6_140730115755_1.jpg\n",
      "http://dmimg.5054399.com/allimg/140730/32_140730101700_1.jpg\n",
      "http://dmimg.5054399.com/allimg/140729/32_140729094637_1.jpg\n",
      "http://dmimg.5054399.com/allimg/140728/32_140728105635_1.jpg\n",
      "http://dmimg.5054399.com/allimg/140726/32_140726110535_1.jpg\n",
      "http://dmimg.5054399.com/allimg/140725/6_140725145708_1.jpg\n",
      "http://dmimg.5054399.com/allimg/140724/32_140724101151_1.jpg\n",
      "http://dmimg.5054399.com/allimg/140723/32_140723095402_1.jpg\n",
      "http://dmimg.5054399.com/allimg/xiaduo/121.jpg\n",
      "http://dmimg.5054399.com/allimg/xiaduo/122.jpg\n",
      "http://dmimg.5054399.com/allimg/xiaduo/123.jpg\n",
      "http://dmimg.5054399.com/allimg/170415/6_170415112850_1.jpg\n",
      "http://dmimg.5054399.com/allimg/xiaduo/126.jpg\n",
      "http://dmimg.5054399.com/allimg/xiaduo/124.jpg\n",
      "http://dmimg.5054399.com/allimg/170613/42_170613104122_3.jpg\n",
      "http://dmimg.5054399.com/allimg/160217/6_160217142248_3.jpg\n",
      "http://dmimg.5054399.com/allimg/160127/6_160127110842_2.jpg\n",
      "http://dmimg.5054399.com/allimg/160126/6_160126100905_3.jpg\n",
      "http://dmimg.5054399.com/allimg/151028/6_151028142939_2.jpg\n",
      "http://dmimg.5054399.com/allimg/140719/32_140719110611_1.jpg\n",
      "http://dmimg.5054399.com/allimg/140716/32_140716103056_1.jpg\n",
      "http://dmimg.5054399.com/allimg/140714/6_140714171123_2.jpg\n",
      "http://dmimg.5054399.com/allimg/140714/32_140714094810_1.jpg\n",
      "http://dmimg.5054399.com/allimg/140712/6_140712015233_2.jpg\n",
      "http://dmimg.5054399.com/allimg/140711/6_140711172419_1.jpg\n",
      "http://dmimg.5054399.com/allimg/140710/32_140710100432_1.jpg\n",
      "http://dmimg.5054399.com/allimg/140709/6_140709095203_2.jpg\n",
      "http://dmimg.5054399.com/allimg/140628/6_140628102640_1.jpg\n",
      "http://dmimg.5054399.com/allimg/140701/32_140701102916_1.jpg\n",
      "http://dmimg.5054399.com/allimg/140624/32_140624101632_1.jpg\n",
      "http://dmimg.5054399.com/allimg/140623/6_140623155122_1.jpg\n",
      "http://dmimg.5054399.com/allimg/140621/32_140621105829_1.jpg\n",
      "http://dmimg.5054399.com/allimg/140619/32_140619100129_1.jpg\n",
      "http://dmimg.5054399.com/allimg/140617/32_140617100601_1.jpg\n",
      "http://dmimg.5054399.com/allimg/140616/32_140616101626_1.jpg\n",
      "http://dmimg.5054399.com/allimg/140614/32_140614113447_1.jpg\n",
      "http://dmimg.5054399.com/allimg/140607/32_140607110806_1.jpg\n",
      "http://dmimg.5054399.com/allimg/xiaduo/121.jpg\n",
      "http://dmimg.5054399.com/allimg/xiaduo/122.jpg\n",
      "http://dmimg.5054399.com/allimg/xiaduo/123.jpg\n",
      "http://dmimg.5054399.com/allimg/170415/6_170415112850_1.jpg\n",
      "http://dmimg.5054399.com/allimg/xiaduo/126.jpg\n",
      "http://dmimg.5054399.com/allimg/xiaduo/124.jpg\n",
      "http://dmimg.5054399.com/allimg/170613/42_170613104122_3.jpg\n",
      "http://dmimg.5054399.com/allimg/160217/6_160217142248_3.jpg\n",
      "http://dmimg.5054399.com/allimg/160127/6_160127110842_2.jpg\n",
      "http://dmimg.5054399.com/allimg/160126/6_160126100905_3.jpg\n",
      "http://dmimg.5054399.com/allimg/151028/6_151028142939_2.jpg\n"
     ]
    }
   ],
   "source": [
    "\n",
    "a = 'http://www.4399dmw.com/haizeiwang/tupian/list-273-'\n",
    "for i in range (1,8):\n",
    "    url = a+ str(i) + '.html'\n",
    "    HTML = requests.get(url).text\n",
    "    LIST = HTML.split('\\n')\n",
    "    for line in LIST:\n",
    "        if '.jpg'in line:\n",
    "            lin2 = line.split('\"')\n",
    "            for linee in lin2:\n",
    "                if '.jpg' in linee:\n",
    "                    print(linee)"
   ]
  },
  {
   "cell_type": "markdown",
   "metadata": {},
   "source": [
    "## EP:\n",
    "- 1\n",
    "![](../Photo/104.png)\n",
    "- 2 \n",
    "    随机参数100个数字，将www.baidu.com/?page=进行拼接"
   ]
  },
  {
   "cell_type": "markdown",
   "metadata": {},
   "source": [
    "## Python高级使用方法 -- 字符串\n",
    "- 我们经常使用的方法实际上就是调用Python的运算重载\n",
    "![](../Photo/105.png)"
   ]
  },
  {
   "cell_type": "markdown",
   "metadata": {},
   "source": [
    "# Homework\n",
    "- 1\n",
    "![](../Photo/106.png)"
   ]
  },
  {
   "cell_type": "code",
   "execution_count": 1,
   "metadata": {},
   "outputs": [],
   "source": [
    "def SSN_(b):#定义一个名为SSN_的函数\n",
    "    c=str(b)#将b转换成字符串类型\n",
    "    a = '222-22-2222'#设置一个默认的社会安全号码\n",
    "    if c==a:#如果用户输入的社会安全号码 等于 默认的社会安全号码\n",
    "        print('Valid SSN')\n",
    "    else:\n",
    "        print('Invalid SSN')"
   ]
  },
  {
   "cell_type": "code",
   "execution_count": 2,
   "metadata": {},
   "outputs": [
    {
     "name": "stdout",
     "output_type": "stream",
     "text": [
      "Valid SSN\n"
     ]
    }
   ],
   "source": [
    "b='222-22-2222'\n",
    "SSN_(b)#调用函数"
   ]
  },
  {
   "cell_type": "markdown",
   "metadata": {},
   "source": [
    "- 2\n",
    "![](../Photo/107.png)"
   ]
  },
  {
   "cell_type": "code",
   "execution_count": 3,
   "metadata": {},
   "outputs": [],
   "source": [
    "def zichuan(a,b):#定义一个名为zichuan的函数\n",
    "    c=str(a)#将a转换成字符串类型\n",
    "    d=str(b)#将b转换成字符串类型\n",
    "    if c in d:#如果a在b里\n",
    "        print('a是b的子字符串')\n",
    "    else:\n",
    "        print('a不是b的子字符串')"
   ]
  },
  {
   "cell_type": "code",
   "execution_count": 4,
   "metadata": {},
   "outputs": [
    {
     "name": "stdout",
     "output_type": "stream",
     "text": [
      "a不是b的子字符串\n"
     ]
    }
   ],
   "source": [
    "a=',fnv'\n",
    "b='asdf'\n",
    "zichuan(a,b)#调用函数"
   ]
  },
  {
   "cell_type": "markdown",
   "metadata": {},
   "source": [
    "- 3\n",
    "![](../Photo/108.png)"
   ]
  },
  {
   "cell_type": "code",
   "execution_count": 5,
   "metadata": {},
   "outputs": [],
   "source": [
    "def mima(a):#定义一个名字为mima的函数\n",
    "    N=len(a)#测密码的长度\n",
    "    N1,N2,N3=0,0,0\n",
    "    for i in a:#用for循环对密码的每一个字符进行检测\n",
    "        if i.isupper():#检验大写\n",
    "            N1 += 1\n",
    "        elif i.islower():#检验小写\n",
    "            N2 += 1\n",
    "        elif i.isdigit():#检验数字\n",
    "            N3 += 1\n",
    "    if N1==0 and N2==0:\n",
    "        print('密码必须含有字母')\n",
    "    if N3<2:\n",
    "        print('密码至少含有两个数字')\n",
    "    if N<8:\n",
    "        print('密码至少含有8位')"
   ]
  },
  {
   "cell_type": "code",
   "execution_count": 6,
   "metadata": {},
   "outputs": [
    {
     "name": "stdout",
     "output_type": "stream",
     "text": [
      "密码至少含有两个数字\n"
     ]
    }
   ],
   "source": [
    "a='njlhdvj5'\n",
    "mima(a)"
   ]
  },
  {
   "cell_type": "markdown",
   "metadata": {},
   "source": [
    "- 4\n",
    "![](../Photo/109.png)"
   ]
  },
  {
   "cell_type": "code",
   "execution_count": 7,
   "metadata": {},
   "outputs": [],
   "source": [
    "def geshu(a):#定义一个geshu的函数\n",
    "    b=str(a)#将a转换成字符串类型\n",
    "    N=0\n",
    "    for i in b:#用for循环对密码的每一个字符进行检测\n",
    "        if i.isupper():#检验大写\n",
    "            N+=1\n",
    "        if i.islower():#检验小写\n",
    "            N+=1\n",
    "            \n",
    "    print(N)"
   ]
  },
  {
   "cell_type": "code",
   "execution_count": 8,
   "metadata": {},
   "outputs": [
    {
     "name": "stdout",
     "output_type": "stream",
     "text": [
      "9\n"
     ]
    }
   ],
   "source": [
    "a = 'hcxj,vjdv5S'\n",
    "geshu(a)"
   ]
  },
  {
   "cell_type": "markdown",
   "metadata": {},
   "source": [
    "- 5\n",
    "![](../Photo/110.png)"
   ]
  },
  {
   "cell_type": "code",
   "execution_count": 14,
   "metadata": {},
   "outputs": [
    {
     "name": "stdout",
     "output_type": "stream",
     "text": [
      "输入电话号码15391107372\n"
     ]
    }
   ],
   "source": [
    "zifu = input('输入电话号码')\n",
    "def getNumber():\n",
    "    zifu.replace('a,b,c,A,B,C','2')\n",
    "    zifu.replace('d,e,f,E,D,F','3')  \n",
    "    zifu.replace('h,i,g','4')    \n",
    "    zifu.replace('k,j,l','5')     \n",
    "    zifu.replace('n,m,o','6')        \n",
    "    zifu.replace('q,p,r,s','7')      \n",
    "    zifu.replace('t,v,u','8')     \n",
    "    zifu.replace('w,y,x,z','9')    \n",
    "getNumber()"
   ]
  },
  {
   "cell_type": "markdown",
   "metadata": {},
   "source": [
    "- 6\n",
    "![](../Photo/111.png)"
   ]
  },
  {
   "cell_type": "code",
   "execution_count": 12,
   "metadata": {},
   "outputs": [],
   "source": [
    "#百度的，reverse()函数将列表的内容进行了反转，借助这个特性\n",
    "#可以先将字符串化成列表\n",
    "#利用reverse()函数进行反转后，再处理成字符串\n",
    "def reverse1(a):\n",
    "    b=list(a)\n",
    "    b.reverse()\n",
    "    print(b)"
   ]
  },
  {
   "cell_type": "code",
   "execution_count": 13,
   "metadata": {},
   "outputs": [
    {
     "name": "stdout",
     "output_type": "stream",
     "text": [
      "['h', 'b', 'd', 'f', 'b', 'd', 'f', 'g', 'd', 'a']\n"
     ]
    }
   ],
   "source": [
    "a='adgfdbfdbh'\n",
    "reverse1(a)"
   ]
  },
  {
   "cell_type": "markdown",
   "metadata": {},
   "source": [
    "- 7\n",
    "![](../Photo/112.png)"
   ]
  },
  {
   "cell_type": "code",
   "execution_count": null,
   "metadata": {},
   "outputs": [],
   "source": []
  },
  {
   "cell_type": "markdown",
   "metadata": {},
   "source": [
    "- 8\n",
    "![](../Photo/113.png)"
   ]
  },
  {
   "cell_type": "code",
   "execution_count": 15,
   "metadata": {},
   "outputs": [],
   "source": [
    "def isbn_(a):#定义一个函数\n",
    "    b=str(a)#将a转换成字符串类型\n",
    "    len(b)==12#输入的字符串长度为12\n",
    "    d1,d2,d3,d4,d5,d6,d7,d8,d9,d10,d11,d12=b[0],b[1],b[2],b[3],b[4],b[5],b[6],b[7],b[8],b[9],b[10],b[11]#将字符串a拆成小的字符串\n",
    "    f=ord(d1)+3*ord(d2)+ord(d3)+3*ord(d4)+ord(d5)+3*ord(d6)+ord(d7)+3*ord(d8)\n",
    "    +ord(d9)+3*ord(d10)+ord(d11)+3*ord(d12)#ord()函数是获取字符的整数表示\n",
    "    d13=(10-f)%10\n",
    "    if d13==10:\n",
    "        print(b+'0')\n",
    "    else:\n",
    "        print(b+str(d13))"
   ]
  },
  {
   "cell_type": "code",
   "execution_count": 16,
   "metadata": {},
   "outputs": [
    {
     "name": "stdout",
     "output_type": "stream",
     "text": [
      "5531213151215\n"
     ]
    }
   ],
   "source": [
    "a='553121315121'\n",
    "isbn_(a)"
   ]
  },
  {
   "cell_type": "markdown",
   "metadata": {},
   "source": [
    "- 9\n",
    "![](../Photo/114.png)"
   ]
  }
 ],
 "metadata": {
  "kernelspec": {
   "display_name": "Python 3",
   "language": "python",
   "name": "python3"
  },
  "language_info": {
   "codemirror_mode": {
    "name": "ipython",
    "version": 3
   },
   "file_extension": ".py",
   "mimetype": "text/x-python",
   "name": "python",
   "nbconvert_exporter": "python",
   "pygments_lexer": "ipython3",
   "version": "3.7.3"
  }
 },
 "nbformat": 4,
 "nbformat_minor": 2
}
