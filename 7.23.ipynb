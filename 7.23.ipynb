{
 "cells": [
  {
   "cell_type": "markdown",
   "metadata": {},
   "source": [
    "# 对象和类\n",
    "- 一个学生，一张桌子，一个圆都是对象\n",
    "- 对象是类的一个实例，你可以创建多个对象，创建类的一个实例过程被称为实例化，\n",
    "- 在Python中对象就是实例，而实例就是对象"
   ]
  },
  {
   "cell_type": "markdown",
   "metadata": {},
   "source": [
    "## 定义类\n",
    "class ClassName:\n",
    "\n",
    "    do something\n",
    "    \n",
    "- class 类的表示与def 一样\n",
    "- 类名最好使用驼峰式\n",
    "- 在Python2中类是需要继承基类object的，在Python中默认继承，可写可不写\n",
    "- 可以将普通代码理解为皮肤，而函数可以理解为内衣，那么类可以理解为外套"
   ]
  },
  {
   "cell_type": "markdown",
   "metadata": {},
   "source": [
    "## 定义一个不含初始化__init__的简单类\n",
    "class ClassName:\n",
    "\n",
    "    joker = “Home”\n",
    "    \n",
    "    def func():\n",
    "        print('Worker')\n",
    "    \n",
    "- 尽量少使用"
   ]
  },
  {
   "cell_type": "markdown",
   "metadata": {},
   "source": [
    "\n",
    "\n",
    "## 定义一个标准类\n",
    "- __init__ 代表初始化，可以初始化任何动作\n",
    "- 此时类调用要使用()，其中（）可以理解为开始初始化\n",
    "- 初始化内的元素，类中其他的函数可以共享\n",
    "![](../Photo/85.png)"
   ]
  },
  {
   "cell_type": "code",
   "execution_count": 39,
   "metadata": {},
   "outputs": [],
   "source": [
    "#一切类必须要初始化\n",
    "#在类中所有函数的第一个参数，都是标识量，不是参数\n",
    "#若某一个参数需要多次使用，那么可以将其统一放在初始化函数中\n",
    "class Joker:\n",
    "    def __init__(self,num1,num2):\n",
    "        print('初始化')\n",
    "        self.num1 = num1\n",
    "        self.num2 = num2\n",
    "    def print_(self,name):\n",
    "        print('hello world',name)\n",
    "    def sum(self):\n",
    "        return self.num1 + self.num2\n",
    "    def cheng(self):\n",
    "        return self.num1 * self.num2"
   ]
  },
  {
   "cell_type": "code",
   "execution_count": 40,
   "metadata": {},
   "outputs": [
    {
     "name": "stdout",
     "output_type": "stream",
     "text": [
      "初始化\n"
     ]
    }
   ],
   "source": [
    "wxp=Joker(num1=1,num2=2)"
   ]
  },
  {
   "cell_type": "code",
   "execution_count": 42,
   "metadata": {},
   "outputs": [
    {
     "ename": "AttributeError",
     "evalue": "'Joker' object has no attribute 'print__'",
     "output_type": "error",
     "traceback": [
      "\u001b[1;31m---------------------------------------------------------------------------\u001b[0m",
      "\u001b[1;31mAttributeError\u001b[0m                            Traceback (most recent call last)",
      "\u001b[1;32m<ipython-input-42-59199e142794>\u001b[0m in \u001b[0;36m<module>\u001b[1;34m\u001b[0m\n\u001b[1;32m----> 1\u001b[1;33m \u001b[0mwxp\u001b[0m\u001b[1;33m.\u001b[0m\u001b[0mprint__\u001b[0m\u001b[1;33m(\u001b[0m\u001b[1;34m'name'\u001b[0m\u001b[1;33m)\u001b[0m\u001b[1;33m\u001b[0m\u001b[1;33m\u001b[0m\u001b[0m\n\u001b[0m",
      "\u001b[1;31mAttributeError\u001b[0m: 'Joker' object has no attribute 'print__'"
     ]
    }
   ],
   "source": [
    "wxp.print__('name')"
   ]
  },
  {
   "cell_type": "markdown",
   "metadata": {},
   "source": [
    "#### - Circle 和 className_ 的第一个区别有 __init__ 这个函数\n",
    "- 。。。。   第二个区别，类中的每一个函数都有self的这个“参数”"
   ]
  },
  {
   "cell_type": "markdown",
   "metadata": {},
   "source": [
    "## 何为self？\n",
    "- self 是指向对象本身的参数\n",
    "- self 只是一个命名规则，其实可以改变的，但是我们约定俗成的是self，也便于理解\n",
    "- 使用了self就可以访问类中定义的成员\n",
    "<img src=\"../Photo/86.png\"></img>"
   ]
  },
  {
   "cell_type": "markdown",
   "metadata": {},
   "source": [
    "## 使用类 Cirlcle"
   ]
  },
  {
   "cell_type": "markdown",
   "metadata": {},
   "source": [
    "## 类的传参\n",
    "- class ClassName:\n",
    "    \n",
    "        def __init__(self, para1,para2...)：\n",
    "            \n",
    "            self.para1 = para1\n",
    "            \n",
    "            self.para2 = para2"
   ]
  },
  {
   "cell_type": "markdown",
   "metadata": {},
   "source": [
    "## EP:\n",
    "- A：定义一个类，类中含有两个功能：\n",
    "    - 1、产生3个随机数，获取最大值\n",
    "    - 2、产生3个随机数，获取最小值\n",
    "- B：定义一个类，（类中函数的嵌套使用）\n",
    "    - 1、第一个函数的功能为：输入一个数字\n",
    "    - 2、第二个函数的功能为：使用第一个函数中得到的数字进行平方处理\n",
    "    - 3、第三个函数的功能为：得到平方处理后的数字 - 原来输入的数字，并打印结果"
   ]
  },
  {
   "cell_type": "code",
   "execution_count": 24,
   "metadata": {},
   "outputs": [],
   "source": [
    "import random"
   ]
  },
  {
   "cell_type": "code",
   "execution_count": 25,
   "metadata": {},
   "outputs": [],
   "source": [
    "a=random.randint(1,10)\n",
    "b=random.randint(1,10)\n",
    "c=random.randint(1,10)"
   ]
  },
  {
   "cell_type": "code",
   "execution_count": 26,
   "metadata": {},
   "outputs": [],
   "source": [
    "class joker2:\n",
    "    def __init__(self,a,b,c):\n",
    "        self.a = a\n",
    "        self.b = b \n",
    "        self.c = c\n",
    "    def max_(self):\n",
    "        return max(self.a,self.b,self.c)\n",
    "    def min_(self):\n",
    "        return min(self.a,self.b,self.c)"
   ]
  },
  {
   "cell_type": "code",
   "execution_count": null,
   "metadata": {},
   "outputs": [],
   "source": [
    "class joker3:\n",
    "    def __int__(self):\n",
    "        pass\n",
    "    def input_(self):\n",
    "        num = eval(input('>>'))\n",
    "        return num\n",
    "        def square(self):\n",
    "            num = delf.input_()\n",
    "            num_2 = num ** 2\n",
    "            return num_2\n",
    "        def chazhi(self):\n",
    "            num = self.input_()\n",
    "            num2 = self.square()\n",
    "            return num2 - num\n",
    "            pass"
   ]
  },
  {
   "cell_type": "code",
   "execution_count": 47,
   "metadata": {},
   "outputs": [],
   "source": [
    "class QQ:\n",
    "    def __init__(self):\n",
    "        self.account = '123'\n",
    "        self.password  = '123'\n",
    "    def account_(self):\n",
    "        acc = input('account:>>')\n",
    "        password = input('password:>>')\n",
    "        if acc == self.account and self.password == password:\n",
    "            print('success')\n",
    "        else:\n",
    "            self.yanzhengma()\n",
    "    def yanzhengma(self):\n",
    "        yanzheng = 'ppp'\n",
    "        print('验证码是:',yanzheng)\n",
    "        while l :\n",
    "            N = input('请输入验证码:>>')\n",
    "            if M == yanzheng:\n",
    "                print('验证码正确')\n",
    "                print('账号或密码错误')\n",
    "                break"
   ]
  },
  {
   "cell_type": "code",
   "execution_count": 48,
   "metadata": {},
   "outputs": [],
   "source": [
    "qq = QQ()"
   ]
  },
  {
   "cell_type": "code",
   "execution_count": 49,
   "metadata": {},
   "outputs": [
    {
     "name": "stdout",
     "output_type": "stream",
     "text": [
      "account:>>123\n",
      "password:>>123\n",
      "success\n"
     ]
    }
   ],
   "source": [
    "qq.account_()"
   ]
  },
  {
   "cell_type": "markdown",
   "metadata": {},
   "source": [
    "## 类的继承\n",
    "- 类的单继承\n",
    "- 类的多继承\n",
    "- 继承标识\n",
    ">  class SonClass(FatherClass):\n",
    "            \n",
    "            def __init__(self):\n",
    "            \n",
    "                FatherClass.__init__(self)"
   ]
  },
  {
   "cell_type": "markdown",
   "metadata": {},
   "source": [
    "## 私有数据域(私有变量，或者私有函数)\n",
    "- 在Python中 变量名或者函数名使用双下划线代表私有  \\__Joker,   def \\__Joker():\n",
    "- 私有数据域不可继承\n",
    "- 私有数据域强制继承   \\__dir__()"
   ]
  },
  {
   "cell_type": "markdown",
   "metadata": {},
   "source": [
    "![](../Photo/87.png)"
   ]
  },
  {
   "cell_type": "markdown",
   "metadata": {},
   "source": [
    "## EP:\n",
    "![](../Photo/88.png)\n",
    "![](../Photo/89.png)\n",
    "![](../Photo/90.png)\n"
   ]
  },
  {
   "cell_type": "markdown",
   "metadata": {},
   "source": [
    "## 类的其他\n",
    "- 类的封装\n",
    "    - 实际上就是将一类功能放在一起，方便未来进行管理\n",
    "- 类的继承（上面已经讲过）\n",
    "- 类的多态\n",
    "    - 包括装饰器：将放在以后处理高级类中教\n",
    "    - 装饰器的好处：当许多类中的函数需要使用同一个功能的时候，那么使用装饰器就会方便许多\n",
    "    - 装饰器是有固定的写法\n",
    "        - 其包括普通装饰器与带参装饰器"
   ]
  },
  {
   "cell_type": "markdown",
   "metadata": {},
   "source": [
    "# Homewor\n",
    "## UML类图可以不用画\n",
    "## UML 实际上就是一个思维图\n",
    "- 1\n",
    "![](../Photo/91.png)"
   ]
  },
  {
   "cell_type": "code",
   "execution_count": 2,
   "metadata": {},
   "outputs": [],
   "source": [
    "class Rectangle:\n",
    "    \"\"\"\n",
    "    定义一个类\n",
    "    \"\"\"\n",
    "    def __init__(self,width=1,height=2):\n",
    "        \"\"\"\n",
    "        初始化，给变量赋初始值\n",
    "    \n",
    "        \"\"\"\n",
    "        self.width=width\n",
    "        self.height=height\n",
    "    def getArea(self):\n",
    "        \"\"\"\n",
    "        定义函数，求面积\n",
    "        \"\"\"\n",
    "        self.num1=self.width*self.height\n",
    "        return self.num1\n",
    "        \"\"\"\n",
    "        #返回面积\n",
    "        \"\"\"\n",
    "    def getPerimeter(self):\n",
    "        \"\"\"\n",
    "        定义函数，求周长\n",
    "        \"\"\"\n",
    "        self.num2=2*(self.width+self.height)\n",
    "        return self.num2\n",
    "        \"\"\"\n",
    "        返回周长\n",
    "        \"\"\""
   ]
  },
  {
   "cell_type": "code",
   "execution_count": 3,
   "metadata": {},
   "outputs": [],
   "source": [
    "niu=Rectangle(width=4,height=40)"
   ]
  },
  {
   "cell_type": "code",
   "execution_count": 4,
   "metadata": {},
   "outputs": [
    {
     "data": {
      "text/plain": [
       "160"
      ]
     },
     "execution_count": 4,
     "metadata": {},
     "output_type": "execute_result"
    }
   ],
   "source": [
    "niu.getArea()"
   ]
  },
  {
   "cell_type": "code",
   "execution_count": 5,
   "metadata": {},
   "outputs": [
    {
     "data": {
      "text/plain": [
       "88"
      ]
     },
     "execution_count": 5,
     "metadata": {},
     "output_type": "execute_result"
    }
   ],
   "source": [
    "niu.getPerimeter()"
   ]
  },
  {
   "cell_type": "markdown",
   "metadata": {},
   "source": [
    "- 2\n",
    "![](../Photo/92.png)"
   ]
  },
  {
   "cell_type": "code",
   "execution_count": 6,
   "metadata": {},
   "outputs": [],
   "source": [
    "class Account:\n",
    "    \"\"\"\n",
    "    定义一个类\n",
    "    \"\"\"\n",
    "    def __init__(self,id_=0,balance=100,nianlilv=0):\n",
    "        \"\"\"\n",
    "        初始化\n",
    "        设置初始变量\n",
    "        \"\"\"\n",
    "        self.id_=id_\n",
    "        self.balance=balance\n",
    "        self.nianlilv=nianlilv\n",
    "    def getmonthlyinterestrate(self):\n",
    "        \"\"\"\n",
    "        定义函数\n",
    "        计算月利率\n",
    "        \"\"\"\n",
    "        self.getmonthlyinterestrate=self.balance*(self.nianlilv/12)/100\n",
    "        print('月利率为： ',self.getmonthlyinterestrate)\n",
    "    def getmonthlyinterest(self):\n",
    "        \"\"\"\n",
    "        定义函数\n",
    "        计算月利息\n",
    "        \"\"\"\n",
    "        self.getmonthlyinterest=self.balance*self.getmonthlyinterestrate\n",
    "        print('月利息为： ',self.getmonthlyinterest)\n",
    "    def withdraw(self):\n",
    "        \"\"\"\n",
    "        定义函数\n",
    "        计算取款后的余额\n",
    "        \"\"\"\n",
    "        money=eval(input('请输入取款金额：'))\n",
    "        self.shengyu=self.balance-money\n",
    "        print('账户剩余金额：',self.shengyu)\n",
    "    def deposit(self):\n",
    "        \"\"\"\n",
    "        定义函数\n",
    "        计算存款后的余额\n",
    "        \"\"\"\n",
    "        money_=eval(input('请输入存入金额：'))\n",
    "        self.shengyu=self.shengyu+money_\n",
    "        print('账户余额为：',self.shengyu)"
   ]
  },
  {
   "cell_type": "code",
   "execution_count": 7,
   "metadata": {},
   "outputs": [],
   "source": [
    "nyk=Account(1122,20000,4.5)"
   ]
  },
  {
   "cell_type": "code",
   "execution_count": 8,
   "metadata": {},
   "outputs": [
    {
     "name": "stdout",
     "output_type": "stream",
     "text": [
      "月利率为：  75.0\n"
     ]
    }
   ],
   "source": [
    "nyk.getmonthlyinterestrate()"
   ]
  },
  {
   "cell_type": "code",
   "execution_count": 9,
   "metadata": {},
   "outputs": [
    {
     "name": "stdout",
     "output_type": "stream",
     "text": [
      "月利息为：  1500000.0\n"
     ]
    }
   ],
   "source": [
    "nyk.getmonthlyinterest()"
   ]
  },
  {
   "cell_type": "code",
   "execution_count": 10,
   "metadata": {},
   "outputs": [
    {
     "name": "stdout",
     "output_type": "stream",
     "text": [
      "请输入取款金额：5555\n",
      "账户剩余金额： 14445\n"
     ]
    }
   ],
   "source": [
    "nyk.withdraw()"
   ]
  },
  {
   "cell_type": "code",
   "execution_count": null,
   "metadata": {},
   "outputs": [],
   "source": [
    "nyk.deposit()"
   ]
  },
  {
   "cell_type": "markdown",
   "metadata": {},
   "source": [
    "- 3\n",
    "![](../Photo/93.png)"
   ]
  },
  {
   "cell_type": "code",
   "execution_count": null,
   "metadata": {},
   "outputs": [],
   "source": []
  },
  {
   "cell_type": "markdown",
   "metadata": {},
   "source": []
  },
  {
   "cell_type": "markdown",
   "metadata": {},
   "source": [
    "- 5\n",
    "![](../Photo/96.png)"
   ]
  },
  {
   "cell_type": "code",
   "execution_count": 11,
   "metadata": {},
   "outputs": [],
   "source": [
    "class LinearEquation:\n",
    "    \"\"\"\n",
    "    定义一个类 \n",
    "    \"\"\"\n",
    "    def __init__(self,a,b,c,d,e,f):\n",
    "        \"\"\"\n",
    "        初始化\n",
    "        \n",
    "        定义变量\n",
    "        \"\"\"\n",
    "        self.a=a\n",
    "        self.b=b\n",
    "        self.c=c\n",
    "        self.d=d\n",
    "        self.e=e\n",
    "        self.f=f\n",
    "    def isSolvable(self):\n",
    "        \"\"\"\n",
    "        定义函数\n",
    "        \"\"\"\n",
    "        if self.a*self.d - self.b*self.c != 0:\n",
    "            \"\"\"\n",
    "            如果a*d-b*c≠0\n",
    "            打印出x,y的值\n",
    "            \"\"\"\n",
    "            x=(self.e*self.d-self.b*self.f)/(self.a*self.d-self.b*self.c)\n",
    "            y=(self.a*self.f-self.e*self.c)/(self.a*self.d-self.b*self.c)\n",
    "            print(x,y,'True')\n",
    "        else:\n",
    "            print('无解')"
   ]
  },
  {
   "cell_type": "code",
   "execution_count": 12,
   "metadata": {},
   "outputs": [],
   "source": [
    "nyk = LinearEquation(7,2,3,4,1,8)"
   ]
  },
  {
   "cell_type": "code",
   "execution_count": 13,
   "metadata": {},
   "outputs": [
    {
     "name": "stdout",
     "output_type": "stream",
     "text": [
      "-0.5454545454545454 2.409090909090909 True\n"
     ]
    }
   ],
   "source": [
    "nyk.isSolvable()"
   ]
  },
  {
   "cell_type": "markdown",
   "metadata": {},
   "source": [
    "- 6\n",
    "![](../Photo/97.png)"
   ]
  },
  {
   "cell_type": "code",
   "execution_count": 14,
   "metadata": {},
   "outputs": [
    {
     "ename": "SyntaxError",
     "evalue": "invalid syntax (<ipython-input-14-b528d1b54364>, line 2)",
     "output_type": "error",
     "traceback": [
      "\u001b[1;36m  File \u001b[1;32m\"<ipython-input-14-b528d1b54364>\"\u001b[1;36m, line \u001b[1;32m2\u001b[0m\n\u001b[1;33m    def __init__(self.a.b.c.d):\u001b[0m\n\u001b[1;37m                     ^\u001b[0m\n\u001b[1;31mSyntaxError\u001b[0m\u001b[1;31m:\u001b[0m invalid syntax\n"
     ]
    }
   ],
   "source": [
    "class jiaochaxian:\n",
    "    def __init__(self.a.b.c.d):\n",
    "        self.a = x1,y1\n",
    "        self.b = x2,y2\n",
    "        self.c = x3,y3\n",
    "        self.d = x4,y4\n",
    "    def zhixian1(self):"
   ]
  },
  {
   "cell_type": "markdown",
   "metadata": {},
   "source": [
    "- 7\n",
    "![](../Photo/98.png)"
   ]
  },
  {
   "cell_type": "code",
   "execution_count": null,
   "metadata": {},
   "outputs": [],
   "source": []
  }
 ],
 "metadata": {
  "kernelspec": {
   "display_name": "Python 3",
   "language": "python",
   "name": "python3"
  },
  "language_info": {
   "codemirror_mode": {
    "name": "ipython",
    "version": 3
   },
   "file_extension": ".py",
   "mimetype": "text/x-python",
   "name": "python",
   "nbconvert_exporter": "python",
   "pygments_lexer": "ipython3",
   "version": "3.7.3"
  }
 },
 "nbformat": 4,
 "nbformat_minor": 2
}
