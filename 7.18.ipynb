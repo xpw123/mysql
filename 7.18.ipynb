{
 "cells": [
  {
   "cell_type": "markdown",
   "metadata": {},
   "source": [
    "# 选择\n",
    "## 布尔类型、数值和表达式\n",
    "![](../Photo/33.png)\n",
    "- 注意：比较运算符的相等是两个等号，一个等到代表赋值\n",
    "- 在Python中可以用整型0来代表False，其他数字来代表True\n",
    "- 后面还会讲到 is 在判断语句中的用发"
   ]
  },
  {
   "cell_type": "code",
   "execution_count": 1,
   "metadata": {},
   "outputs": [
    {
     "data": {
      "text/plain": [
       "True"
      ]
     },
     "execution_count": 1,
     "metadata": {},
     "output_type": "execute_result"
    }
   ],
   "source": [
    "1<=2<=3"
   ]
  },
  {
   "cell_type": "code",
   "execution_count": 2,
   "metadata": {},
   "outputs": [
    {
     "data": {
      "text/plain": [
       "True"
      ]
     },
     "execution_count": 2,
     "metadata": {},
     "output_type": "execute_result"
    }
   ],
   "source": [
    "bool('xiaopeng')"
   ]
  },
  {
   "cell_type": "code",
   "execution_count": 7,
   "metadata": {},
   "outputs": [
    {
     "name": "stdout",
     "output_type": "stream",
     "text": [
      "140710111122240 140710111122240\n"
     ]
    }
   ],
   "source": [
    "a=id(1)\n",
    "b=id(1)\n",
    "#因为a 和 b并不是同一个对象\n",
    "print(a,b)"
   ]
  },
  {
   "cell_type": "code",
   "execution_count": 6,
   "metadata": {},
   "outputs": [
    {
     "data": {
      "text/plain": [
       "140710110599504"
      ]
     },
     "execution_count": 6,
     "metadata": {},
     "output_type": "execute_result"
    }
   ],
   "source": [
    "id(True)"
   ]
  },
  {
   "cell_type": "markdown",
   "metadata": {},
   "source": [
    "## 字符串的比较使用ASCII值"
   ]
  },
  {
   "cell_type": "code",
   "execution_count": 4,
   "metadata": {},
   "outputs": [
    {
     "data": {
      "text/plain": [
       "True"
      ]
     },
     "execution_count": 4,
     "metadata": {},
     "output_type": "execute_result"
    }
   ],
   "source": [
    "a= \"joker\"\n",
    "b= \"jokar\"\n",
    "a > b"
   ]
  },
  {
   "cell_type": "markdown",
   "metadata": {},
   "source": [
    "## Markdown \n",
    "- https://github.com/younghz/Markdown"
   ]
  },
  {
   "cell_type": "code",
   "execution_count": null,
   "metadata": {},
   "outputs": [],
   "source": [
    "代码改成标记"
   ]
  },
  {
   "cell_type": "markdown",
   "metadata": {},
   "source": [
    "## EP:\n",
    "- <img src=\"../Photo/34.png\"></img>\n",
    "- 输入一个数字，判断其实奇数还是偶数"
   ]
  },
  {
   "cell_type": "markdown",
   "metadata": {},
   "source": [
    "## 产生随机数字\n",
    "- 函数random.randint(a,b) 可以用来产生一个a和b之间且包括a和b的随机整数"
   ]
  },
  {
   "cell_type": "markdown",
   "metadata": {},
   "source": [
    "产生一个随机数，你去输入，如果你输入的数大于随机数，那么就告诉你太大了，反之，太小了，\n",
    "然后你一直输入，知道它满意为止"
   ]
  },
  {
   "cell_type": "code",
   "execution_count": null,
   "metadata": {},
   "outputs": [],
   "source": [
    "import random\n",
    "n=eval(input('输入n'))\n",
    "if (n>10):\n",
    "    print(n,'太大了 ')\n",
    "if(n<5):\n",
    "    print(n,'太小了')\n",
    "if n == num:\n",
    "    print('满意')   "
   ]
  },
  {
   "cell_type": "code",
   "execution_count": null,
   "metadata": {},
   "outputs": [],
   "source": [
    "for i in range(5):\n",
    "    n= eval(input('>>'))\n",
    "    number=random.randint(5,10)\n",
    "    if  n > number:\n",
    "        print('太大了')\n",
    "    if n < number:\n",
    "        print('太小了')\n",
    "    if number == n:\n",
    "        print('满意')\n",
    "        break\n",
    "    \n",
    " "
   ]
  },
  {
   "cell_type": "markdown",
   "metadata": {},
   "source": [
    "##  其他random方法\n",
    "- random.random 返回0.0到1.0之间前闭后开区间的随机浮点\n",
    "- random.randrange(a,b) 前闭后开"
   ]
  },
  {
   "cell_type": "markdown",
   "metadata": {},
   "source": [
    "## EP：\n",
    "- 产生两个随机整数number1和number2，然后显示给用户，使用户输入数字的和，并判定其是否正确\n",
    "- 进阶:写一个随机序号点名程序"
   ]
  },
  {
   "cell_type": "code",
   "execution_count": null,
   "metadata": {},
   "outputs": [],
   "source": [
    "import random\n",
    "number_1 = random.randrange(0,10)\n",
    "number_2 = random.randrange(0,10)\n",
    "while 1:\n",
    "    sum_= eval(input('>>'))\n",
    "    if sum_ == (number_1+number_2):\n",
    "        print('Congratulations! Correct')\n",
    "    else:\n",
    "        print('sorry-sb.')"
   ]
  },
  {
   "cell_type": "markdown",
   "metadata": {},
   "source": [
    "## if语句\n",
    "- 如果条件正确就执行一个单向if语句，亦即当条件为真的时候才执行if内部的语句\n",
    "- Python有很多选择语句:\n",
    "> - 单向if \n",
    "  - 双向if-else\n",
    "  - 嵌套if\n",
    "  - 多向if-elif-else\n",
    "  \n",
    "- 注意：当语句含有子语句的时候，那么一定至少要有一个缩进，也就是说如果有儿子存在，那么一定要缩进\n",
    "- 切记不可tab键和space混用，单用tab 或者 space\n",
    "- 当你输出的结果是无论if是否为真时都需要显示时，语句应该与if对齐"
   ]
  },
  {
   "cell_type": "code",
   "execution_count": 1,
   "metadata": {},
   "outputs": [
    {
     "name": "stdout",
     "output_type": "stream",
     "text": [
      "年轻吗[y/n]y\n",
      "帅否[y/n]y\n",
      "有没有老婆[y/n]y\n",
      "回家的诱惑\n"
     ]
    }
   ],
   "source": [
    "age = input ('年轻吗[y/n]')\n",
    "if age == 'y':\n",
    "    handsome = input('帅否[y/n]')\n",
    "    if handsome == 'y':\n",
    "        wife = input('有没有老婆[y/n]')\n",
    "        if wife == 'y':\n",
    "            print('回家的诱惑')\n",
    "        else:\n",
    "            print('立马结婚')\n",
    "    else:\n",
    "        print('考虑一下')\n",
    "else:\n",
    "    print('拜拜')"
   ]
  },
  {
   "cell_type": "markdown",
   "metadata": {},
   "source": [
    "## EP：\n",
    "- 用户输入一个数字，判断其实奇数还是偶数\n",
    "- 进阶：可以查看下4.5实例研究猜生日"
   ]
  },
  {
   "cell_type": "markdown",
   "metadata": {},
   "source": [
    "## 双向if-else 语句\n",
    "- 如果条件为真，那么走if内部语句，否则走else内部语句"
   ]
  },
  {
   "cell_type": "markdown",
   "metadata": {},
   "source": [
    "## EP：\n",
    "- 产生两个随机整数number1和number2，然后显示给用户，使用户输入数字，并判定其是否正确,如果正确打印“you‘re correct”，否则打印正确错误"
   ]
  },
  {
   "cell_type": "markdown",
   "metadata": {},
   "source": [
    "## 嵌套if 和多向if-elif-else\n",
    "![](../Photo/35.png)"
   ]
  },
  {
   "cell_type": "markdown",
   "metadata": {},
   "source": [
    "## EP：\n",
    "- 提示用户输入一个年份，然后显示表示这一年的动物\n",
    "![](../Photo/36.png)\n",
    "- 计算身体质量指数的程序\n",
    "- BMI = 以千克为单位的体重除以以米为单位的身高的平方\n",
    "![](../Photo/37.png)"
   ]
  },
  {
   "cell_type": "code",
   "execution_count": 5,
   "metadata": {},
   "outputs": [
    {
     "name": "stdout",
     "output_type": "stream",
     "text": [
      "year>>2010\n",
      "马\n"
     ]
    }
   ],
   "source": [
    " year = eval(input('year>>'))\n",
    "if year % 12 == 0:\n",
    "        res = \"鼠\"\n",
    "elif year % 12 == 1:\n",
    "        res = \"牛\"\n",
    "elif year % 12 == 2:\n",
    "        res = \"虎\"\n",
    "elif year % 12 == 3:\n",
    "        res = \"兔\"\n",
    "elif year % 12 == 4:\n",
    "        res = \"龙\"\n",
    "elif year % 12 == 5:\n",
    "        res = \"蛇\"\n",
    "elif year % 12 == 6:\n",
    "        res = \"马\"\n",
    "elif year % 12 == 7:\n",
    "        res = \"羊\"\n",
    "elif year % 12 == 8:\n",
    "        res = \"猴\"\n",
    "elif year % 12 == 9:\n",
    "        res = \"鸡\"\n",
    "elif year % 12 == 10:\n",
    "        res = \"狗\"\n",
    "elif year % 12 == 11:\n",
    "        res = \"猪\"\n",
    "print(res)"
   ]
  },
  {
   "cell_type": "code",
   "execution_count": 8,
   "metadata": {},
   "outputs": [
    {
     "name": "stdout",
     "output_type": "stream",
     "text": [
      "体重50\n",
      "身高170\n",
      "超轻\n"
     ]
    }
   ],
   "source": [
    "t=eval(input('体重'))\n",
    "s=eval(input('身高'))\n",
    "BMI= t / s ** 2\n",
    "if BMI<18.5:\n",
    "    print('超轻')\n",
    "elif 18.5<=BMI<25:\n",
    "    print('标准')\n",
    "elif 25.0<=BMI<30:\n",
    "    print('超重')\n",
    "elif 30.0<=BMI:\n",
    "    print('肥重')\n",
    "    \n",
    "\n"
   ]
  },
  {
   "cell_type": "markdown",
   "metadata": {},
   "source": [
    "## 逻辑运算符\n",
    "![](../Photo/38.png)"
   ]
  },
  {
   "cell_type": "markdown",
   "metadata": {},
   "source": [
    "![](../Photo/39.png)\n",
    "![](../Photo/40.png)"
   ]
  },
  {
   "cell_type": "markdown",
   "metadata": {},
   "source": [
    "## EP：\n",
    "- 判定闰年：一个年份如果能被4整除但不能被100整除，或者能被400整除，那么这个年份就是闰年\n",
    "- 提示用户输入一个年份，并返回是否是闰年\n",
    "- 提示用户输入一个数字，判断其是否为水仙花数"
   ]
  },
  {
   "cell_type": "code",
   "execution_count": 9,
   "metadata": {},
   "outputs": [
    {
     "name": "stdout",
     "output_type": "stream",
     "text": [
      ">>123\n",
      "不是水仙花\n"
     ]
    }
   ],
   "source": [
    "number = eval(input('>>'))\n",
    "\n",
    "bai=number //100\n",
    "shi=number//10 % 10\n",
    "ge=number%10\n",
    "if bai**3 + shi **3+ ge **3 == number:\n",
    "    print('水仙花')\n",
    "else:\n",
    "    print('不是水仙花')"
   ]
  },
  {
   "cell_type": "markdown",
   "metadata": {},
   "source": [
    "## 实例研究：彩票\n",
    "![](../Photo/41.png)"
   ]
  },
  {
   "cell_type": "code",
   "execution_count": 12,
   "metadata": {},
   "outputs": [],
   "source": [
    "import random"
   ]
  },
  {
   "cell_type": "code",
   "execution_count": 24,
   "metadata": {},
   "outputs": [
    {
     "name": "stdout",
     "output_type": "stream",
     "text": [
      "94\n",
      ">>94\n",
      "10000\n"
     ]
    }
   ],
   "source": [
    "number = random.randint(10,99)\n",
    "print(number)\n",
    "N =input('>>')\n",
    "\n",
    "number_shi=number//10\n",
    "number_ge=number% 10\n",
    "if N[0] ==  0:\n",
    "    N_shi = 0\n",
    "else:\n",
    "    N_shi = int(N)//10\n",
    "    N_ge = int(N)% 10\n",
    "if number ==int(N):\n",
    "    print('10000')\n",
    "# elif (number_shi== N_shi or number_shi=N_ge) and (number_ge == N_shi or number_ge ==N_ge)\n",
    "elif number_shi + number_ge == N_shi + N_ge:\n",
    "    print('3000')\n",
    "elif (number_ge == N_ge or number_ge == N_shi) or (number_shi == N_ge or number_shi == N_shi):\n",
    "    print('1000')\n"
   ]
  },
  {
   "cell_type": "markdown",
   "metadata": {},
   "source": [
    "# Homework\n",
    "- 1\n",
    "![](../Photo/42.png)"
   ]
  },
  {
   "cell_type": "code",
   "execution_count": 1,
   "metadata": {},
   "outputs": [
    {
     "name": "stdout",
     "output_type": "stream",
     "text": [
      "请输入a：2121\n",
      "请输入b：21215\n",
      "请输入c：454\n",
      "-0.02144593483594662 -9.980911443759057\n"
     ]
    }
   ],
   "source": [
    "import math\n",
    "a = eval(input('请输入a：'))\n",
    "b = eval(input('请输入b：'))\n",
    "c = eval(input('请输入c：'))\n",
    "panbieshi = b**2-4*a*c\n",
    "if panbieshi>0:\n",
    "    r1 = (-b+math.sqrt(b**2-4*a*c))/(2*a)\n",
    "    r2 = (-b-math.sqrt(b**2-4*a*c))/(2*a)\n",
    "    print(r1,r2)\n",
    "if panbieshi==0:\n",
    "    r=-b/2*a\n",
    "    print(r)\n",
    "if panbieshi<0:\n",
    "    print('The equation has no real roots')"
   ]
  },
  {
   "cell_type": "markdown",
   "metadata": {},
   "source": [
    "- 2\n",
    "![](../Photo/43.png)"
   ]
  },
  {
   "cell_type": "code",
   "execution_count": 2,
   "metadata": {},
   "outputs": [
    {
     "name": "stdout",
     "output_type": "stream",
     "text": [
      "64 32\n",
      "请输入和:5454\n",
      "假\n"
     ]
    }
   ],
   "source": [
    "import random\n",
    "num1 = random.randint(0,100)\n",
    "num2 = random.randint(0,100)\n",
    "print(num1,num2)\n",
    "sum_ = eval(input('请输入和:'))\n",
    "if num1+num2==sum_:\n",
    "    print('真')\n",
    "else:\n",
    "    print('假')"
   ]
  },
  {
   "cell_type": "markdown",
   "metadata": {},
   "source": [
    "- 3\n",
    "![](../Photo/44.png)"
   ]
  },
  {
   "cell_type": "code",
   "execution_count": 3,
   "metadata": {},
   "outputs": [
    {
     "name": "stdout",
     "output_type": "stream",
     "text": [
      "输入表示今天的数字：9\n",
      "输入今天之后到未来某天的天数：8\n",
      "wednesday\n"
     ]
    }
   ],
   "source": [
    "num = eval(input('输入表示今天的数字：'))\n",
    "day = eval(input('输入今天之后到未来某天的天数：'))\n",
    "if (num+day)%7==0:\n",
    "    print('sunday')\n",
    "elif (num+day)%7==1:\n",
    "    print('monday')\n",
    "elif (num+day)%7==2:\n",
    "    print('tuesday')\n",
    "elif (num+day)%7==3:\n",
    "    print('wednesday')\n",
    "elif (num+day)%7==4:\n",
    "    print('thursday')\n",
    "elif (num+day)%7==5:\n",
    "    print('friday')\n",
    "elif (num+day)%7==6:\n",
    "    print('saturday')"
   ]
  },
  {
   "cell_type": "markdown",
   "metadata": {},
   "source": [
    "- 4\n",
    "![](../Photo/45.png)"
   ]
  },
  {
   "cell_type": "code",
   "execution_count": 4,
   "metadata": {},
   "outputs": [
    {
     "name": "stdout",
     "output_type": "stream",
     "text": [
      "请输入第一个整数：5\n",
      "请输入第二个整数：7\n",
      "请输入第三个整数：1\n",
      "1 5 7\n"
     ]
    }
   ],
   "source": [
    "x = int(input('请输入第一个整数：'))\n",
    "y = int(input('请输入第二个整数：'))\n",
    "z = int(input('请输入第三个整数：'))\n",
    "if x>y:\n",
    "    x,y = y,x\n",
    "if x>z:\n",
    "    x,z = z,x\n",
    "if y>z:\n",
    "    y,z = z,y\n",
    "print(x,y,z)"
   ]
  },
  {
   "cell_type": "markdown",
   "metadata": {},
   "source": [
    "- 5\n",
    "![](../Photo/46.png)"
   ]
  },
  {
   "cell_type": "code",
   "execution_count": 5,
   "metadata": {},
   "outputs": [
    {
     "name": "stdout",
     "output_type": "stream",
     "text": [
      "请输入包装一的重量和价格：666\n"
     ]
    },
    {
     "ename": "TypeError",
     "evalue": "cannot unpack non-iterable int object",
     "output_type": "error",
     "traceback": [
      "\u001b[1;31m---------------------------------------------------------------------------\u001b[0m",
      "\u001b[1;31mTypeError\u001b[0m                                 Traceback (most recent call last)",
      "\u001b[1;32m<ipython-input-5-a6a8767f1319>\u001b[0m in \u001b[0;36m<module>\u001b[1;34m\u001b[0m\n\u001b[1;32m----> 1\u001b[1;33m \u001b[0mx1\u001b[0m\u001b[1;33m,\u001b[0m\u001b[0my1\u001b[0m \u001b[1;33m=\u001b[0m \u001b[0meval\u001b[0m\u001b[1;33m(\u001b[0m\u001b[0minput\u001b[0m\u001b[1;33m(\u001b[0m\u001b[1;34m'请输入包装一的重量和价格：'\u001b[0m\u001b[1;33m)\u001b[0m\u001b[1;33m)\u001b[0m\u001b[1;33m\u001b[0m\u001b[1;33m\u001b[0m\u001b[0m\n\u001b[0m\u001b[0;32m      2\u001b[0m \u001b[0mx2\u001b[0m\u001b[1;33m,\u001b[0m\u001b[0my2\u001b[0m \u001b[1;33m=\u001b[0m \u001b[0meval\u001b[0m\u001b[1;33m(\u001b[0m\u001b[0minput\u001b[0m\u001b[1;33m(\u001b[0m\u001b[1;34m'请输入包装二的重量和价格：'\u001b[0m\u001b[1;33m)\u001b[0m\u001b[1;33m)\u001b[0m\u001b[1;33m\u001b[0m\u001b[1;33m\u001b[0m\u001b[0m\n\u001b[0;32m      3\u001b[0m \u001b[1;32mif\u001b[0m \u001b[0my1\u001b[0m\u001b[1;33m/\u001b[0m\u001b[0mx2\u001b[0m\u001b[1;33m<\u001b[0m\u001b[0my2\u001b[0m\u001b[1;33m/\u001b[0m\u001b[0mx2\u001b[0m\u001b[1;33m:\u001b[0m\u001b[1;33m\u001b[0m\u001b[1;33m\u001b[0m\u001b[0m\n\u001b[0;32m      4\u001b[0m     \u001b[0mprint\u001b[0m\u001b[1;33m(\u001b[0m\u001b[1;34m'包装1'\u001b[0m\u001b[1;33m)\u001b[0m\u001b[1;33m\u001b[0m\u001b[1;33m\u001b[0m\u001b[0m\n\u001b[0;32m      5\u001b[0m \u001b[1;32melse\u001b[0m\u001b[1;33m:\u001b[0m\u001b[1;33m\u001b[0m\u001b[1;33m\u001b[0m\u001b[0m\n",
      "\u001b[1;31mTypeError\u001b[0m: cannot unpack non-iterable int object"
     ]
    }
   ],
   "source": [
    "x1,y1 = eval(input('请输入包装一的重量和价格：'))\n",
    "x2,y2 = eval(input('请输入包装二的重量和价格：'))\n",
    "if y1/x2<y2/x2:\n",
    "    print('包装1')\n",
    "else:\n",
    "    print('包装2')"
   ]
  },
  {
   "cell_type": "markdown",
   "metadata": {},
   "source": [
    "- 6\n",
    "![](../Photo/47.png)"
   ]
  },
  {
   "cell_type": "code",
   "execution_count": 6,
   "metadata": {},
   "outputs": [
    {
     "name": "stdout",
     "output_type": "stream",
     "text": [
      "请输入年份1997\n",
      "请输入月份2\n",
      "28\n"
     ]
    }
   ],
   "source": [
    "year = eval(input('请输入年份'))\n",
    "month = eval(input('请输入月份'))\n",
    "if (year % 4== 0 and year % 100 != 0) or (year % 400 == 0):\n",
    "    if(month==2):\n",
    "        print(29)\n",
    "    if(month==1 or month==3 or month==5 or month==7 or month==8 or month==10 or month==12):\n",
    "        print(31)\n",
    "    if(month==4 or month==6 or month==9 or month==11):\n",
    "        print(30)\n",
    "if (year % 4!= 0 and year % 100 == 0) or (year % 400 != 0):\n",
    "    if(month==2):\n",
    "        print(28)\n",
    "    if(month==1 or month==3 or month==5 or month==7 or month==8 or month==10 or month==12):\n",
    "        print(31)\n",
    "    if(month==4 or month==6 or month==9 or month==11):\n",
    "        print(30)\n"
   ]
  },
  {
   "cell_type": "markdown",
   "metadata": {},
   "source": [
    "- 7\n",
    "![](../Photo/48.png)"
   ]
  },
  {
   "cell_type": "code",
   "execution_count": 7,
   "metadata": {},
   "outputs": [
    {
     "name": "stdout",
     "output_type": "stream",
     "text": [
      "请输入1（正面）0（反面）：88\n",
      "错误\n"
     ]
    }
   ],
   "source": [
    "a = random.randint(0,1)\n",
    "num = eval(input('请输入1（正面）0（反面）：'))\n",
    "if num==a:\n",
    "    print('正确')\n",
    "if num!=a:\n",
    "    print('错误')"
   ]
  },
  {
   "cell_type": "markdown",
   "metadata": {},
   "source": [
    "- 8\n",
    "![](../Photo/49.png)"
   ]
  },
  {
   "cell_type": "code",
   "execution_count": 8,
   "metadata": {},
   "outputs": [
    {
     "name": "stdout",
     "output_type": "stream",
     "text": [
      "请输入0（剪刀）或1（石头）或2（布）1\n",
      "赢\n"
     ]
    }
   ],
   "source": [
    "a = random.randint(0,2)\n",
    "num = eval(input('请输入0（剪刀）或1（石头）或2（布）'))\n",
    "if num == a:\n",
    "    print('平局')\n",
    "if a==0 and num == 2 or a==1 and num==0 or a==2 and num==1:\n",
    "    print('输')\n",
    "if num==0 and a == 2 or num==1 and a==0 or num==2 and a==1:\n",
    "    print('赢')"
   ]
  },
  {
   "cell_type": "markdown",
   "metadata": {},
   "source": [
    "- 9\n",
    "![](../Photo/50.png)"
   ]
  },
  {
   "cell_type": "code",
   "execution_count": null,
   "metadata": {},
   "outputs": [],
   "source": []
  },
  {
   "cell_type": "markdown",
   "metadata": {},
   "source": [
    "- 10\n",
    "![](../Photo/51.png)"
   ]
  },
  {
   "cell_type": "code",
   "execution_count": 9,
   "metadata": {},
   "outputs": [
    {
     "name": "stdout",
     "output_type": "stream",
     "text": [
      "6\n",
      "黑桃\n"
     ]
    }
   ],
   "source": [
    "import random\n",
    "num1 = random.randint(1,13)\n",
    "num2 = random.randint(14,17)\n",
    "if num1==1:\n",
    "    print('Ace')\n",
    "if num1==2:\n",
    "    print(2)\n",
    "if num1==3:\n",
    "    print(3)\n",
    "if num1==4:\n",
    "    print(4)\n",
    "if num1==5:\n",
    "    print(5)\n",
    "if num1==6:\n",
    "    print(6)\n",
    "if num1==7:\n",
    "    print(7)\n",
    "if num1==8:\n",
    "    print(8)\n",
    "if num1==9:\n",
    "    print(9)\n",
    "if num1==10:\n",
    "    print(10)\n",
    "if num1==11:\n",
    "    print('Jack')\n",
    "if num1==12:\n",
    "    print('Queen')\n",
    "if num1==13:\n",
    "    print('King')\n",
    "if num2==14:\n",
    "    print('梅花')\n",
    "if num2==15:\n",
    "    print('红桃')\n",
    "if num2==16:\n",
    "    print('方块')\n",
    "if num2==17:\n",
    "    print('黑桃')"
   ]
  },
  {
   "cell_type": "markdown",
   "metadata": {},
   "source": [
    "- 11\n",
    "![](../Photo/52.png)"
   ]
  },
  {
   "cell_type": "code",
   "execution_count": 10,
   "metadata": {},
   "outputs": [
    {
     "name": "stdout",
     "output_type": "stream",
     "text": [
      "请输入一个三位数：555\n",
      "是\n"
     ]
    }
   ],
   "source": [
    "num = eval(input('请输入一个三位数：'))\n",
    "a=num%10\n",
    "b=num//10%10\n",
    "c=num//100\n",
    "if a==c:\n",
    "    print('是')\n",
    "else:\n",
    "    print('否')"
   ]
  },
  {
   "cell_type": "markdown",
   "metadata": {},
   "source": [
    "- 12\n",
    "![](../Photo/53.png)"
   ]
  },
  {
   "cell_type": "code",
   "execution_count": 11,
   "metadata": {},
   "outputs": [
    {
     "name": "stdout",
     "output_type": "stream",
     "text": [
      "请输入边长1：999\n",
      "请输入边长2：555\n",
      "请输入边长3：333\n"
     ]
    },
    {
     "ename": "NameError",
     "evalue": "name 'zhouchang' is not defined",
     "output_type": "error",
     "traceback": [
      "\u001b[1;31m---------------------------------------------------------------------------\u001b[0m",
      "\u001b[1;31mNameError\u001b[0m                                 Traceback (most recent call last)",
      "\u001b[1;32m<ipython-input-11-89b8ad857dba>\u001b[0m in \u001b[0;36m<module>\u001b[1;34m\u001b[0m\n\u001b[0;32m      2\u001b[0m \u001b[0ma2\u001b[0m \u001b[1;33m=\u001b[0m \u001b[0meval\u001b[0m\u001b[1;33m(\u001b[0m\u001b[0minput\u001b[0m\u001b[1;33m(\u001b[0m\u001b[1;34m'请输入边长2：'\u001b[0m\u001b[1;33m)\u001b[0m\u001b[1;33m)\u001b[0m\u001b[1;33m\u001b[0m\u001b[1;33m\u001b[0m\u001b[0m\n\u001b[0;32m      3\u001b[0m \u001b[0ma3\u001b[0m \u001b[1;33m=\u001b[0m \u001b[0meval\u001b[0m\u001b[1;33m(\u001b[0m\u001b[0minput\u001b[0m\u001b[1;33m(\u001b[0m\u001b[1;34m'请输入边长3：'\u001b[0m\u001b[1;33m)\u001b[0m\u001b[1;33m)\u001b[0m\u001b[1;33m\u001b[0m\u001b[1;33m\u001b[0m\u001b[0m\n\u001b[1;32m----> 4\u001b[1;33m \u001b[0mzhouchang\u001b[0m \u001b[1;33m==\u001b[0m \u001b[0ma1\u001b[0m\u001b[1;33m+\u001b[0m\u001b[0ma2\u001b[0m\u001b[1;33m+\u001b[0m\u001b[0ma3\u001b[0m\u001b[1;33m\u001b[0m\u001b[1;33m\u001b[0m\u001b[0m\n\u001b[0m\u001b[0;32m      5\u001b[0m \u001b[1;32mif\u001b[0m \u001b[0ma1\u001b[0m\u001b[1;33m+\u001b[0m\u001b[0ma2\u001b[0m\u001b[1;33m>\u001b[0m\u001b[0ma3\u001b[0m \u001b[1;32mand\u001b[0m \u001b[0ma1\u001b[0m\u001b[1;33m+\u001b[0m\u001b[0ma3\u001b[0m\u001b[1;33m>\u001b[0m\u001b[0ma2\u001b[0m \u001b[1;32mand\u001b[0m \u001b[0ma2\u001b[0m\u001b[1;33m+\u001b[0m\u001b[0ma3\u001b[0m\u001b[1;33m>\u001b[0m\u001b[0ma1\u001b[0m\u001b[1;33m:\u001b[0m\u001b[1;33m\u001b[0m\u001b[1;33m\u001b[0m\u001b[0m\n\u001b[0;32m      6\u001b[0m     \u001b[0mprint\u001b[0m\u001b[1;33m(\u001b[0m\u001b[0mzhouchang\u001b[0m\u001b[1;33m)\u001b[0m\u001b[1;33m\u001b[0m\u001b[1;33m\u001b[0m\u001b[0m\n",
      "\u001b[1;31mNameError\u001b[0m: name 'zhouchang' is not defined"
     ]
    }
   ],
   "source": [
    "a1 = eval(input('请输入边长1：'))\n",
    "a2 = eval(input('请输入边长2：'))\n",
    "a3 = eval(input('请输入边长3：'))\n",
    "zhouchang == a1+a2+a3\n",
    "if a1+a2>a3 and a1+a3>a2 and a2+a3>a1:\n",
    "    print(zhouchang)\n",
    "else:\n",
    "    print('不合法')"
   ]
  },
  {
   "cell_type": "code",
   "execution_count": null,
   "metadata": {},
   "outputs": [],
   "source": []
  }
 ],
 "metadata": {
  "kernelspec": {
   "display_name": "Python 3",
   "language": "python",
   "name": "python3"
  },
  "language_info": {
   "codemirror_mode": {
    "name": "ipython",
    "version": 3
   },
   "file_extension": ".py",
   "mimetype": "text/x-python",
   "name": "python",
   "nbconvert_exporter": "python",
   "pygments_lexer": "ipython3",
   "version": "3.7.3"
  }
 },
 "nbformat": 4,
 "nbformat_minor": 2
}
